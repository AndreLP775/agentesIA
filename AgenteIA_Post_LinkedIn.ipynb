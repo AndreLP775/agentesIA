{
  "nbformat": 4,
  "nbformat_minor": 0,
  "metadata": {
    "colab": {
      "provenance": [],
      "authorship_tag": "ABX9TyPqUUAM5Y+BYt2NRMxhzxZH",
      "include_colab_link": true
    },
    "kernelspec": {
      "name": "python3",
      "display_name": "Python 3"
    },
    "language_info": {
      "name": "python"
    }
  },
  "cells": [
    {
      "cell_type": "markdown",
      "metadata": {
        "id": "view-in-github",
        "colab_type": "text"
      },
      "source": [
        "<a href=\"https://colab.research.google.com/github/AndreLP775/agentesIA/blob/main/AgenteIA_Post_LinkedIn.ipynb\" target=\"_parent\"><img src=\"https://colab.research.google.com/assets/colab-badge.svg\" alt=\"Open In Colab\"/></a>"
      ]
    },
    {
      "cell_type": "code",
      "execution_count": 2,
      "metadata": {
        "collapsed": true,
        "id": "JpFezL1c7gcB"
      },
      "outputs": [],
      "source": [
        "!pip install -q crewai crewai_tools\n"
      ]
    },
    {
      "cell_type": "code",
      "source": [
        "from crewai import Agent, Task, Crew"
      ],
      "metadata": {
        "collapsed": true,
        "id": "CS6NJ4k579vh"
      },
      "execution_count": 3,
      "outputs": []
    },
    {
      "cell_type": "code",
      "source": [
        "import os\n",
        "from google.colab import userdata\n",
        "\n",
        "os.environ[\"OPENAI_API_KEY\"] = userdata.get('OPENAI_API_KEY')\n",
        "os.environ[\"OPENAI_MODEL_NAME\"] = 'gpt-4o'\n",
        "\n",
        "os.environ[\"SERPER_API_KEY\"] = userdata.get('SERPER_API_KEY')\n",
        "\n"
      ],
      "metadata": {
        "id": "_9kBPQW6VRP7"
      },
      "execution_count": 4,
      "outputs": []
    },
    {
      "cell_type": "code",
      "source": [
        "from crewai_tools import SerperDevTool, ScrapeWebsiteTool\n",
        "\n",
        "search_tool = SerperDevTool()\n",
        "scrape_tool = ScrapeWebsiteTool()"
      ],
      "metadata": {
        "colab": {
          "base_uri": "https://localhost:8080/"
        },
        "id": "NJbm8yKCQx_Q",
        "outputId": "2b871f4d-7fb6-447f-c74c-22498ab43c47"
      },
      "execution_count": 5,
      "outputs": [
        {
          "output_type": "stream",
          "name": "stderr",
          "text": [
            "/usr/local/lib/python3.11/dist-packages/pydantic/_internal/_generate_schema.py:502: UserWarning: <built-in function callable> is not a Python type (it may be an instance of an object), Pydantic will allow any object with no validation since we cannot even enforce that the input is an instance of the given type. To get rid of this error wrap the type with `pydantic.SkipValidation`.\n",
            "  warn(\n"
          ]
        }
      ]
    },
    {
      "cell_type": "markdown",
      "source": [
        "1 - buscador de conteúdo"
      ],
      "metadata": {
        "id": "FiS-3HevSgJB"
      }
    },
    {
      "cell_type": "code",
      "source": [
        "buscador = Agent(\n",
        "    role = 'buscador de conteúdos',\n",
        "    goal = 'busque conteúdo online sobre {tema}',\n",
        "    backstory = 'você está trabalhando na criação de artigos para o LinkedIn sobre {tema}.'\n",
        "                'você vai fazer uma busca sobre informações na internet, coletá-las e agrupá-las.'\n",
        "                'seu trabalho servirá de base para o redator de conteúdo.',\n",
        "    tools = [search_tool, scrape_tool],\n",
        "    verbose = True\n",
        ")"
      ],
      "metadata": {
        "id": "VFg3fJbZSjLx"
      },
      "execution_count": 6,
      "outputs": []
    },
    {
      "cell_type": "markdown",
      "source": [
        "2 - redator de conteúdo"
      ],
      "metadata": {
        "id": "z4XfEtsbTnJP"
      }
    },
    {
      "cell_type": "code",
      "source": [
        "redator = Agent(\n",
        "    role = 'redator de conteúdos',\n",
        "    goal = 'Escrever um texto divertido e factualmente correto de LinkedIn sobre {tema}',\n",
        "    backstory = 'você está trabalhando na redação de um artigo para o LinkedIn sobre {tema}.'\n",
        "                'você vai utilizar os dados coletados pelo buscador de conteúdo para escrever um texto interessante, divertido e factualmente correto para o LinkedIn.'\n",
        "                'De opiniões sobre o {tema}, mas ao fazê-lo, deixe claro que são opiniões pessoais.',\n",
        "    tools = [search_tool, scrape_tool],\n",
        "    verbose = True\n",
        ")"
      ],
      "metadata": {
        "id": "68pHkHFwTsXi"
      },
      "execution_count": 7,
      "outputs": []
    },
    {
      "cell_type": "markdown",
      "source": [
        "3 - editor de conteúdos"
      ],
      "metadata": {
        "id": "gG7fe_ahUYOu"
      }
    },
    {
      "cell_type": "code",
      "source": [
        "editor = Agent(\n",
        "    role = 'editor de conteúdos',\n",
        "    goal = 'Editar um texto de LinkedIn para que ele tenha um tom mais informal',\n",
        "    backstory = 'você está trabalhando na edição de um artigo para o LinkedIn.'\n",
        "                'você vai receber um texto do redator de conteúdo, e editá-lo para o tom de voz.'\n",
        "                'do André Luiz, que é mais informal e divertido',\n",
        "    tools = [search_tool, scrape_tool],\n",
        "    verbose = True\n",
        ")"
      ],
      "metadata": {
        "id": "AK9TTSBeUcL8"
      },
      "execution_count": 8,
      "outputs": []
    },
    {
      "cell_type": "markdown",
      "source": [
        "Tarefas"
      ],
      "metadata": {
        "id": "p04fxhYWBO8z"
      }
    },
    {
      "cell_type": "code",
      "source": [
        "buscar = Task(\n",
        "    description=(\n",
        "        \"1. Priorize as últimas tendências, os principais atores e as notícias mais relevantes sobre {tema}. \\n\"\n",
        "        \"2. Identifique o público-alvo, considerando seus interesses e pontos de dor. \\n\"\n",
        "        \"3. Inclua palavras-chave de SEO e dados ou fontes relevantes.\"\n",
        "    ),\n",
        "    agent = buscador,\n",
        "    expected_output = 'Um plano de tendências sobre {tema}, com as palavras mais relevantes de SEO e as últimas notícias.',\n",
        ")"
      ],
      "metadata": {
        "id": "G3eiJSGkBQaX"
      },
      "execution_count": 9,
      "outputs": []
    },
    {
      "cell_type": "code",
      "source": [
        "redigir = Task(\n",
        "    description = (\n",
        "        \"1. Use os dados coletados de conteúdo para criar um post de LinkedIn atraente sobre {tema}. \\n\"\n",
        "        \"2. Incorpore palavras-chave de SEO de forma natural. \\n\"\n",
        "        \"3. Certifique-se de que o post esteja estruturado de forma cativante, com uma conclusão que faça o leitor refletir. \\n\"\n",
        "    ),\n",
        "    agent = redator,\n",
        "    expected_output='Um texto de LinkedIn sobre {tema}.'\n",
        ")"
      ],
      "metadata": {
        "id": "x1OdwdRWCJZp"
      },
      "execution_count": 10,
      "outputs": []
    },
    {
      "cell_type": "code",
      "source": [
        "editar = Task(\n",
        "    description = (\n",
        "        \"Revisar a postagem do LinkedIn em questão quanto a erros gramaticais e alinhamento com a voz pessoal do Andre Pereira.\"\n",
        "    ),\n",
        "    agent = editor,\n",
        "    expected_output='Um texto de LinkedIn pronto para publicação, seguindo o tom de voz esperado. O texto está separado em parágrafos e não usa bullet points.'\n",
        ")\n"
      ],
      "metadata": {
        "id": "rQqN48_iCuUz"
      },
      "execution_count": 11,
      "outputs": []
    },
    {
      "cell_type": "markdown",
      "source": [
        "Crew - Equipe"
      ],
      "metadata": {
        "id": "Kx2aVS0xDJCp"
      }
    },
    {
      "cell_type": "code",
      "source": [
        "equipe = Crew(\n",
        "    agentes=[buscador, redator, editor],\n",
        "    tasks=[buscar, redigir, editar],\n",
        "    verbose = True\n",
        ")"
      ],
      "metadata": {
        "id": "b97CqMUfDKwI"
      },
      "execution_count": 13,
      "outputs": []
    },
    {
      "cell_type": "markdown",
      "source": [
        "Executando o crew"
      ],
      "metadata": {
        "id": "WltaskpcDZZl"
      }
    },
    {
      "cell_type": "code",
      "source": [
        "tema_do_artigo = 'Uso de agentes de IA em plataformas multidiciplinares'\n",
        "\n",
        "entradas = {\"tema\": tema_do_artigo}\n",
        "\n",
        "resultado = equipe.kickoff(inputs=entradas)"
      ],
      "metadata": {
        "colab": {
          "base_uri": "https://localhost:8080/"
        },
        "id": "ga_jGsJ1Da6C",
        "outputId": "79b85493-b2f8-4f3f-f25d-f75d73294b24"
      },
      "execution_count": 15,
      "outputs": [
        {
          "output_type": "stream",
          "name": "stdout",
          "text": [
            "\u001b[1m\u001b[95m# Agent:\u001b[00m \u001b[1m\u001b[92mbuscador de conteúdos\u001b[00m\n",
            "\u001b[95m## Task:\u001b[00m \u001b[92m1. Priorize as últimas tendências, os principais atores e as notícias mais relevantes sobre Uso de agentes de IA em plataformas multidiciplinares. \n",
            "2. Identifique o público-alvo, considerando seus interesses e pontos de dor. \n",
            "3. Inclua palavras-chave de SEO e dados ou fontes relevantes.\u001b[00m\n",
            "\n",
            "\n",
            "\u001b[1m\u001b[95m# Agent:\u001b[00m \u001b[1m\u001b[92mbuscador de conteúdos\u001b[00m\n",
            "\u001b[95m## Using tool:\u001b[00m \u001b[92mSearch the internet with Serper\u001b[00m\n",
            "\u001b[95m## Tool Input:\u001b[00m \u001b[92m\n",
            "\"{\\\"search_query\\\": \\\"latest trends in AI agents in multidisciplinary platforms 2023\\\"}\"\u001b[00m\n",
            "\u001b[95m## Tool Output:\u001b[00m \u001b[92m\n",
            "{'searchParameters': {'q': 'latest trends in AI agents in multidisciplinary platforms 2023', 'type': 'search', 'num': 10, 'engine': 'google'}, 'organic': [{'title': '2025 Enterprise Data & AI Trends: Agents, Platforms, and Moonshots', 'link': 'https://sanjmo.medium.com/2025-enterprise-data-ai-trends-agents-platforms-and-moonshots-0010c8b4d1f3', 'snippet': 'The 2025 data and AI landscape is characterized by the rise of agents, the evolution of data platforms, and the pursuit of ambitious moonshots.', 'position': 1}, {'title': 'The top AI trend of 2025: Why AI agents will take over - CoinGeek', 'link': 'https://coingeek.com/the-top-ai-trend-of-2025-why-ai-agents-will-take-over/', 'snippet': \"New Opportunities for Non-Experts: These gains in efficiency, combined with AI's knowledge base and autonomy, give non-experts the ability to ...\", 'position': 2}, {'title': 'Top 10 AI Agent Trends and Predictions for 2025 - Analytics Vidhya', 'link': 'https://www.analyticsvidhya.com/blog/2024/12/ai-agent-trends/', 'snippet': 'AI agents will gain better emotional intelligence in 2025, enabling empathetic interactions in customer service, therapy, and education. They ...', 'position': 3}, {'title': 'AI Agent Trends in 2023 | Restackio', 'link': 'https://www.restack.io/p/ai-agent-answer-trends-2023-cat-ai', 'snippet': 'Explore the latest AI trends impacting AI agents, including advancements in machine learning and automation. | Restackio.', 'position': 4}, {'title': '7 AI Agent Trends Reshaping Enterprise Learning in 2025 - LinkedIn', 'link': 'https://www.linkedin.com/pulse/future-work-7-ai-agent-trends-reshaping-enterprise-learning-singh-yccue', 'snippet': 'Seven Transformative Trends Shaping the Future · 1. Enterprise-Wide Integration · 2. Collaborative Agent Networks · 3. Multimodal Learning ...', 'position': 5}, {'title': \"The Next “Next Big Thing”: Agentic AI's Opportunities and Risks\", 'link': 'https://scet.berkeley.edu/the-next-next-big-thing-agentic-ais-opportunities-and-risks/', 'snippet': 'Agentic AI is poised to revolutionize industries, handling complex tasks with human-like decision-making—but with great power comes great risk ...', 'position': 6}, {'title': 'Autonomous generative AI agents: Under development - Deloitte', 'link': 'https://www2.deloitte.com/us/en/insights/industry/technology/technology-media-and-telecom-predictions/2025/autonomous-generative-ai-agents-still-under-development.html', 'snippet': 'Autonomous generative AI agents could increase the productivity of knowledge workers and make workflows of all kinds more efficient.', 'position': 7, 'sitelinks': [{'title': 'Agentic Ai Puts The...', 'link': 'https://www2.deloitte.com/us/en/insights/industry/technology/technology-media-and-telecom-predictions/2025/autonomous-generative-ai-agents-still-under-development.html#:~:text=Agentic%20AI%20puts%20the%20%60%60agency%27%27%20in%20agent'}, {'title': 'Gen Ai Agents Explained: A...', 'link': 'https://www2.deloitte.com/us/en/insights/industry/technology/technology-media-and-telecom-predictions/2025/autonomous-generative-ai-agents-still-under-development.html#:~:text=Gen%20AI%20agents%20explained%3A%20A%20closer%20look'}, {'title': 'Promising Use Cases For...', 'link': 'https://www2.deloitte.com/us/en/insights/industry/technology/technology-media-and-telecom-predictions/2025/autonomous-generative-ai-agents-still-under-development.html#:~:text=Promising%20use%20cases%20for%20autonomous%20gen%20AI%20agents,-Big%20tech%20companies%20and%20startups'}]}, {'title': 'AI Agents: The Next Evolution in Enterprise Automation - RevGen', 'link': 'https://www.revgenpartners.com/insight-posts/ai-agents-the-next-evolution-in-enterprise-automation/', 'snippet': 'Unlike traditional AI assistants, AI agents can autonomously perform complex tasks, make decisions, and take goal-oriented actions.', 'position': 8}, {'title': 'Trends, Investments, and Launches in the Agentic AI Revolution', 'link': 'https://substack.com/home/post/p-153144865?utm_campaign=post&utm_medium=web', 'snippet': 'Multimodal AI Agents: AI agents are evolving to process and integrate multiple types of input data, such as text, images, and audio, leading to ...', 'position': 9}], 'credits': 1}\u001b[00m\n",
            "\n",
            "\n",
            "\u001b[1m\u001b[95m# Agent:\u001b[00m \u001b[1m\u001b[92mbuscador de conteúdos\u001b[00m\n",
            "\u001b[95m## Using tool:\u001b[00m \u001b[92mRead website content\u001b[00m\n",
            "\u001b[95m## Tool Input:\u001b[00m \u001b[92m\n",
            "\"{\\\"website_url\\\": \\\"https://sanjmo.medium.com/2025-enterprise-data-ai-trends-agents-platforms-and-moonshots-0010c8b4d1f3\\\"}\"\u001b[00m\n",
            "\u001b[95m## Tool Output:\u001b[00m \u001b[92m\n",
            "2025 Enterprise Data & AI Trends: Agents, Platforms, and Moonshots | by Sanjeev Mohan | Dec, 2024 | Medium Open in app Sign up Sign in Write Sign up Sign in 2025 Enterprise Data & AI Trends: Agents, Platforms, and Moonshots Sanjeev Mohan · Follow 18 min read · Dec 24, 2024 -- 7 Listen Share Making predictions, especially in a rapidly evolving field like data and AI, is notoriously difficult. Nevertheless, we, Rajesh Parikh and Sanjeev Mohan , published our 2024 trend forecasts last year. With 2024 now behind us, we’re delighted to confirm the resounding accuracy of our predictions. This success is even more notable considering the unprecedented pace of AI’s development, a rate of change rarely seen in the IT sector. Note: The audio version of this blog is available here . We highlighted the rise of Intelligent Data Platforms and AI agents among our top four predictions. While these trends were less obvious in 2023, the momentum behind AI agents is now undeniable suggesting further acceleration. The mainstreaming of AI and AI agents continues unabated. On the data platform front, we observed a strong shift toward intelligent, unified platforms, driven by the need to simplify user experiences and accelerate data and AI product development. This trend is expected to intensify as more vendors enter the market, expanding the choices available to enterprises. What to expect in 2025 As we approach 2025, the landscape of enterprise data and AI is set to undergo significant transformations, reshaping industries and redefining human interactions with technology. Instead of calling it predictions, we would like to use this document to explore these transformative trends that we believe require enterprise executives and technology managers to pay close attention to. Readers therefore, should use it as a guide to identify priorities and prepare their organizations to pick the right bets. Without further ado, let’s jump into the trends, we believe will probably dominate enterprise data and AI landscape. Figure 1 illustrates the trends classified as Applied AI, Data & Ops, and Moonshots. Figure 1: The 2025 data and AI landscape is characterized by the rise of agents, the evolution of data platforms, and the pursuit of ambitious moonshots with the potential to transform the world around us. Applied AI : These trends will significantly influence how enterprises leverage AI models for transformation, particularly in how agents automate routine tasks and functions. With continued advancements in model reasoning, these agents will evolve to handle increasingly complex tasks and collaborate seamlessly. Data and Platform Trends: A converged data and metadata plane supporting both structured and unstructured data will drive AI and serve as the foundation for agents and AI applications. Several key trends are converging to support this vision, including advancements in data platform management and the development of robust middleware for agentic applications. Moonshots: These ambitious, high-risk endeavors push the boundaries of current technology, exploring areas that may seem cutting-edge today. While carrying a significant risk of failure, breakthroughs in these areas have the potential to revolutionize industries and redefine human-computer interaction. Applied AI The 2025 Applied AI trends center around the practical application and mainstream adoption of agents. As illustrated in Figure 2, we have identified four key sub-topics poised to drive the most significant impact in this category. Figure 2: Just like machine learning, the democratization of AI will be achieved through a thriving ecosystem of agents addressing a wide range of tasks and domain-specific challenges . Let’s next review each of the AI/AI application trends. Agents All the Way In 2025, we enter the era of agentic AI. Excerpts on AI agents and our recommendation to enterprise in last year’s trends as below. For readers interested in looking at the details, go to [ 1 ] AI Information agents is a trend we believe will likely play out over multiple years; however, given their promise, we expect 2024 to be the year where significant progress will be made both in terms of agent infrastructure/tooling as well as early adoption. It is appropriate to point out that a lot of how we understand the potential of current AI architecture to take on more complex tasks is still largely about potential, and there are quite a few unresolved issues. Despite this, enterprises must aim for a practical approach to building agent applications and at some point expect the gaps with current AI technology to take on more and more complex automation that will likely shrink with every passing year. It must also account for the degree of automation possible in the next 12 months use-case by use-case. An evolutionary path/journey to such projects is likely to yield far better success with such endeavors. The adoption of intelligent autonomous AI agents is poised to accelerate in enterprises during 2025, driven by the growing demand for automation of repetitive tasks and enhanced customer experiences. These agents will augment human capabilities, allowing us to focus on creative, strategic, and complex work. They extend automation to tasks requiring high-level thinking, reasoning, and problem-solving — tasks that currently necessitate significant human involvement. For example, agents can perform market research, analyze data, or answer customer support queries. They can also automate complex, multi-step workflows previously considered impractical due to complexity, cost, or both. A comprehensive explanation, definition, and classification of AI agents is provided in [ 2 ]. An AI Agent is a program or a system that can perceive its environment, reason, break down a given task into a set of steps, make decisions, and take actions to achieve those specific tasks autonomously, just like a human worker would do. We are currently witnessing the emergence of AI-powered tools such as developer copilots, available for approximately $20 per month, and early-stage agents like Devin, priced at $500 (still representing a Level 2 automation solution). A Level 2 AI agent, would be an agent that can perform some tasks autonomously, but still requires significant human oversight and intervention. However, in 2025, we anticipate the arrival of significantly more advanced agents with correspondingly higher price points reflecting the value they deliver. For instance, a dedicated agent capable of surpassing the performance of a junior marketer in developing a department’s top-of-funnel inbound and outbound marketing strategy could command a price of $20,000. Multi-Agent System Multi-Agent Systems (MAS) empower multiple autonomous agents to work together, communicating and collaborating to address complex challenges that would be insurmountable for a single agent. This specialization within a MAS allows each agent to focus on its area of expertise, enhancing the system’s overall effectiveness as agents contribute their unique skills and knowledge to solve complex problems. These agents interact with each other, frequently using diverse communication modes and channels, to achieve their individual objectives or the overarching system goal. Figure 3 illustrates how multiple agents collaborate to enhance content generation within an organization. Figure 3: A Multi-Agent System comprising three agents, specializing in content research, creation, and publishing tasks, collaborate to meet the needs of the marketing department. MAS can exhibit different levels of control and different architectural patterns in how they communicate and coordinate through common architectural patterns: Hierarchical teams: This type of MAS commonly employs a central manager or task delegator to mediate communication. Worker agents within the system communicate exclusively through this central agent, preventing direct inter-agent communication. Peer-to-peer: In a peer-to-peer MAS, agents communicate directly with one another, without reliance on a central authority. Group collaboration: This type of MAS resembles a group chat (e.g., Slack, Microsoft Teams), where agents subscribe to relevant channels and coordinate via a publish-subscribe architecture. Unlike single-agent systems, where one agent handles multiple roles, MAS enable efficient specialization, leading to improved performance across various applications. MAS are crucial for scaling complex agentic automations; overloading a single agent with tasks introduces complexity and scalability/reliability issues. We foresee a trend toward enterprises developing a greater number of specialized agents. These agents must operate in team configuration collaborating and coordinating to achieve larger, more complex workflows. Therefore, MAS will play a crucial role in the overall success of agent-driven workflow automation initiatives. For further examples and discussion on the necessity of MAS, refer to [ 3 ]. Agent Management System An Agent Management System (AMS) facilitates the development, evaluation, deployment, and post-deployment monitoring of AI agents. By streamlining the creation and improvement of these agents, an AMS enables faster iteration and simplifies lifecycle management. It also ensures agents meet desired objectives through thorough pre-deployment testing and ongoing production monitoring. Figure 4 shows the components of a representative AMS. Figure 4: Components of a representative Agent Management System (AMS) A representative AMS incorporates the following components: Agent Builder: An agent builder, often referred to as an agent framework, facilitates the rapid creation of new agents and enables iterative improvement of existing ones. Agent Registry: The agent registry maintains a catalog of available agents and facilitates access control and governance, incorporating version management to ensure appropriate access for the target audience. Agent Playground: An agent playground provides a user-friendly, plug-and-play interface for manually testing agents against various tasks and user queries. This environment allows for rapid evaluation of agent performance. Agent Experiments: Agent experiments enable automated pre-deployment evaluation of agents. This structured approach assesses agent performance by defining a dataset, selecting appropriate metrics, configuring the environment, analyzing results, and generating an evaluation report. Experiment logs from previous runs are also typically available. Deployment & Monitoring: Agent deployment involves provisioning the agent with necessary resources in a staging or production environment, while monitoring tracks relevant runtime metrics. This ensures agent reliability and effectiveness. Chat UI: The chat UI provides the requisite user interface for interaction with agents deployed within the production environment. We anticipate that enterprises will deploy a significant number of purpose-built agents to address a wide range of domain-specific tasks. AMS will play a critical role in empowering organizations to create, deploy, and manage these agents at scale throughout their entire lifecycle, thereby enabling the realization of an agentic enterprise. Task Specific Models Although leading models such as Anthropic’s Claude, the OpenAI GPT series, Google’s Gemini, and AWS’s Nova dominated the landscape in 2024, several noteworthy trends emerged concerning the development of task- and domain-specific models, especially relevant to enterprise use cases. Figure 5 illustrates the steps involved in this model creation process. This process is often called post-training alignment . Figure 5: Techniques used to create domain models Supervised Fine Tuning Supervised fine-tuning (SFT) involves training a base model (commonly a pre-trained foundation model or an instruction-tuned variant) using a preference dataset. In the context of chain-of-thought (CoT) alignment, each record within this dataset frequently comprises (prompt, CoT, output) triples, with the CoT explicitly referencing the relevant safety specifications. The context distillation process creates the dataset, starting with a model trained solely for helpfulness and prompts it with both safety specifications and relevant prompts. The outcome of this process is an SFT model . 2. Reinforcement Learning Fine-Tuning The second stage employs high-compute Reinforcement Learning (RL). This stage uses a judge LLM to reward signals based on the model’s adherence to safety specifications, further refining the model’s ability to reason safely. Crucially, this entire process requires minimal human intervention beyond initial specification creation and high-level evaluation. CoT reasoning allows the LLM to explicitly articulate its reasoning process, making its decision-making more transparent and interpretable. In RL stage Alignment, the CoT includes references to the safety specifications, demonstrating how the model arrived at its response. This enables the model to deliberate over safety-related considerations before generating an answer. The inclusion of CoT in the training data allows the model to learn to use this form of reasoning for safer responses, improving both safety and interpretability. Output of this stage is commonly referred to as “Reasoning Model” 3. Continual Fine Tuning Continual fine-tuning allows AI engineers and data scientists to adapt models to specific use cases. Deep learning engineers and data scientists can now fine-tune frontier and open-source models with as few as 10 to 1,000 examples, significantly improving model quality for targeted applications. This is crucial for enterprises seeking to enhance model reliability for specific use cases without investing in extensive post-training infrastructure. Most frontier models now offer continual fine-tuning APIs for both preference tuning and reinforcement learning fine-tuning (RLFT), lowering the barrier to entry for creating task- or domain-specific models. The output of this stage can be referred to as “ Task or Domain specific models” . Open-source fine-tuning frameworks, such as Hugging Face Transformers Reinforcement Learning (TRL), Unsloth and others, provide similar continual tuning capabilities for OSS models. Early adopters of Llama models, for example, have fine-tuned it for over 85,000 times since its release. We observe two distinct trends here as we continue to mainstream AI adoption in enterprise: Organizations with significant capital resources — what we term “ frontier enterprises ” — are likely to adopt a strategy of post-training open-source models, customizing them extensively for specific domains and use cases through continual fine-tuning. For aspirational enterprises with limited budgets but a strong focus on reliable use cases, a cost-effective strategy is to choose a readily available, off-the-shelf LLM and prioritize task-specific alignment via continual fine-tuning. For further reading on post-training alignment, refer to [5] Data & Ops Trends Data is essential for successful AI implementations requiring data management best practices. Key 2025 Data & Ops trends are illustrated in Figure 6. Figure 6: Key Data & Ops Trends Let’s dive deeper into each. Intelligent Data Platform To accelerate data and AI innovation and reduce operational overhead, we proposed a unified and intelligent data and AI platform (IDP) in 2024. This unification and simplification effort gained significant traction across major software providers, resulting in the architecture shown in Figure 7. Figure 7: Intelligent Data Platform Architecture The IDP streamlines integration across the data lifecycle — storage, processing, analytics, and machine learning — reducing the need for fragmented tools and manual effort. It also provides a centralized framework for data governance policies and enforcement. For a detailed overview of the IDP architecture, refer to [ 1 ]. While feature enhancements continued across major offerings from both established tech companies and startups throughout 2024, widespread adoption of Data and AI platforms for AI agents remains ongoing. In 2025, data platform vendors will continue consolidating their services, creating a crucial foundation for AI agents and multi-agent systems by providing the information these applications require for operation and decision-making. These platforms abstract three key functionalities: Unified Data Plane: Unified data plane enable the onboarding, storage, management, and governance of diverse data formats, including text (e.g., PDFs), images (e.g., PNGs, JPEGs), and audio/video (e.g., MP3s). A key sub-trend within this unified data plane is the adoption of open table formats such as Apache Iceberg, Delta Lake, and Apache Hudi. Unified Metadata Plane: Metadata provides essential contextual information to AI applications regarding the data they process. For instance, if the data consists of an HR policy document, relevant metadata might include the document’s version number, last revision date, and author. Without rich metadata providing these nuances, agents will encounter difficulties in establishing sufficient context and delivering the expected functionality. Multi-Engine Orchestrator: The IDP further provides an extensible orchestration layer designed to manage and coordinate a variety of compute engines, including those used for analytical processing, data transformation, and the execution of AI models. Governance Plane : IDPs also serve as access control, governance, and personalization middleware, enabling agents to better understand user personas (including role, data access, and query history) and personalize responses. ETL for AI ETL (Extract, Transform, and Load) is a crucial data integration process for preparing raw data for AI and machine learning models. This process involves extracting data from various sources, transforming it through cleaning and formatting, and subsequently loading it into a data management or storage system, such as the IDP described previously, a data warehouse, or a vector store. While enterprises are already familiar with ETL for structured data — extracting, transforming, and loading data from operational databases into warehouses or data lakes — ETL for AI extends this process to encompass diverse data formats, including text (.pdf, .md, .docx), audio/video (mp3, mpeg), and images (jpeg, png). These unstructured data sources may include various content repositories, applications, and web resources used by enterprises. Indeed, the ETL process itself can leverage AI for extraction tasks, such as extracting entities (images, tables, and named entities) from PDFs using multi-modal large language models (LLMs) or optical character recognition (OCR) models. ETL for unstructured data supports a variety of downstream use cases: AI-driven insights: Retrieval Augmented Generation (RAG) empowers applications to facilitate user interaction with documents, extract key summaries, and support similar use cases. Extracting and transforming data from disparate sources like SharePoint, Dropbox, Notion, and various cloud repositories and applications will be a key enabler for AI-driven insights. We anticipate vendors will continue to abstract RAG, integrating it as a readily accessible feature within unified data, analytics, and AI platforms. AI search : Enhances the accessibility and intelligence of enterprise content compared to traditional keyword search. AI-driven automation : Provides the necessary knowledge layer from unstructured data, offering agents essential contextual information. Post-Training Alignment and Continual Fine-tuning : Facilitates the availability of new and updated data, enabling seamless and continuous personalization of models for various departmental use cases. Data Readiness for AI Data readiness is the foundation for successful implementation of task specific models and AI agents. It is a crucial “ prerequisite” for success with such initiatives. For data to be usable for AI, data needs to be comprehensively ready along many dimensions. While AI can pretty much consume all the available data that an enterprise has, the right approach is to derive the data readiness requirement from the use-cases that are being prioritized. Some of the key dimensions of Data Readiness for AI are illustrated in Figure 8 Figure 8: Data Readiness for AI Data Quality & Observability Does this data pass the established quality metrics? This could mean one or more of the following: Trust Freshness Correctness Completeness of metadata Lineage Legality/Bias Relevance Versioned How are the above metrics managed, tracked and surfaced in real time? Observability data Data Lineage Revision History Data Products for AI Data products are key for success with task-specific models, benchmarking and testing of AI models and agent applications. Some of the important AI data products are: Training-Ready Datasets : Labeled data becomes a valuable data product, ready for immediate use in AI training. Chain-of-Thought (CoT) Datasets: Unlike traditional datasets, which typically provide inputs and outputs for training, CoT datasets also include intermediate reasoning steps that explain how an answer is derived. This step-by-step reasoning approach aligns closely with how humans solve complex problems, making CoT datasets valuable for training AI models to perform tasks that require logical reasoning, planning, and interpretability. Distilled Datasets: Provide a smaller representative subset of a dataset that captures the full dataset’s diversity and variability. A few examples of distilled datasets are: a. A subset of customer reviews that captures diverse sentiment levels and product categories. b. A high-quality task specific dataset created to train smaller models (student models) to mimic the performance of larger, more complex models (teacher models). c. A subset of technical documents distilled for fine-tuning a technical Q&A model. 4. Synthetic datasets: Distilled data used to generate synthetic datasets that mimic the original dataset’s core properties. They are often used to augment real datasets where availability of data is scarce or imbalanced. By generating variations, models can be trained on more diverse datasets. 5. Knowledge graph datasets: Data products powered by GraphRAG leverage the capabilities of graph-based data retrieval and generation. For example, a healthcare knowledge graph dataset that connects medical terms, diagnoses, treatments, and patient outcomes can be used to give personalized medical advice, suggest possible treatment options and help doctors make data-driven decisions. 6. User data: User data can be pivotal in building smarter, personalized AI applications. This data typically includes any information about the user persona and user interaction or input that an AI agent or application uses to understand the user persona an agent can utilize to provide meaningful outputs or responses. Some of the examples of user data are as follows: a. A data analyst agent having information about user’s role and user’s dataset/query/dashboard interaction history can personalize the query response by filtering and choosing appropriate datasets access history and query runs. b. A customer support agent that knows the user’s customer status (e.g., premium or regular) and the nature of their past support requests, can use past tickets, issues, and resolutions to prioritize responses, offer faster resolutions, or recommend specific knowledge base articles. c. A sales agent by analyzing past communication history and engagement patterns with leads and clients, the agent can personalize follow-up strategies, recommend specific products or services, and prioritize leads based on their historical behavior. Moonshots Moonshot projects are ambitious, exploratory endeavors that seek to address significant challenges with groundbreaking solutions. These projects often push the boundaries of current technology, operating at the bleeding edge of innovation. While they inherently carry a high risk of failure, their potential for transformative outcomes is immense. Although this section is a space for creative exploration, we want to explore more speculative concepts as highlighted in Figure 9. Figure 9: Moonshot Projects Cognitive Agents Cognitive agents actively and continuously learn from their experiences and adapt and improve continuously. Figure 10 depicts the defining characteristics of cognitive agents. Figure 10: Five key characteristics of Cognitive Agents: learning, memory, self aware, self improvement, self upgrade Besides the generic capabilities of an AI agent, Cognitive agents often have few other abilities: Memory Retention Longer memory retention ability is one of the key characteristics of cognitive agents. Memory retention capability provides agents the ability to recall previous conversations, often remembering specific events including where and when it happened and often learning from those. Cognitive agents therefore, have complex memory architecture which includes long-term storage for retention and specific form of memory such as episodic memory, which enables the agent to travel back in time and recall specific events including where and when. An example use of episodic memory could be to recollect the steps of successful completion of a task from a prior event. In the event, the agent is faced with the same task again, it can recall the exact steps it took in the prior successful instance and perform it more efficiently this time. 2. Learn from past interactions These agents learn from past interactions and leverage the learnings to make better decisions in the future. 3. Self-aware These agents may further be aware of their own construction details and capabilities. They can potentially learn from user interactions and update its knowledge base for newer learnings. 4. Self-healing Self healing enables agents to extend its functionalities by adding new capabilities such as a tool, creating preference datasets from the recent interactions and triggering the next fine tuning job. It can further evaluate the new model and register the new model revision in the model registry along with producing a detailed model report for the AI engineer to review. 5. Self-upgrade Optionally agents may self upgrade to the new model revision created above. Embodied Agents Embodied agents are types of AI agents with a physical presence like robots. This “embodiment” is crucial because it allows the agent to perceive and act in the physical world the same way as humans do, enabling it to learn and perform tasks that require the agent to develop a rich understanding of its physical space and act on tasks assigned. Generative AI is poised to revolutionize robotics by moving beyond traditional rule-based programming to operate in more complex and dynamic environments. Figure 11 depicts how enterprises can use these novel agents for a wide range of applications. Figure 11: Examples of enterprises using embedded agents. Let’s explore how a bank may use an embodied agent. An embodied customer support agent at their branches may initiate the first interaction of a walk-in customer, provide personalized financial advice and help with transactions. In retail, an embodied agent could take the form of in-store shopping assistants providing product information and guiding through the store. In manufacturing, these agents could handle tasks that require mobility and dexterity for tasks that are dangerous to human safety. Agent Networking Effective communication between multiple AI agents working towards a shared goal or complex problem is currently hampered by the lack of standardized message formats, protocols, and conflict resolution mechanisms. Future networking approaches must be scalable, low-latency, and secure, establishing trust between agents and protecting the communication network from malicious attacks. This takes us to our last expected trend on improvements in agent networking. Effective agent networking could revolutionize how agents communicate, collaborate, coordinate, get the work done and learn within and beyond the enterprise boundary. This trend draws parallels with the early days of standardization of intranet and internet protocols as well as evolution of communities and forums in the web 2.0 era. These trends significantly enhanced human-to-human collaboration beyond physical bounds. Figure 12 shows four options for establishing effective agent networking. Figure 12: Examples of probable agent networking standards Benefits of all the moonshot trends are enormous. Cognitive Agents can learn through these interactions by analyzing exchange data, updating their own knowledge base, analyzing exchange data, refining communication similar to how humans do, and accelerating innovation across enterprise boundaries. Conclusion To recap and summarize, the Applied AI trends are the ones that accelerate meaningful adoption of AI agents and applications in the enterprise whereas the Data & Ops trends provide a solid underlying substrate that support and accelerate these agentic applications. Furthermore, Moonshots are the ones that cover topics that may seem radical today but may bring the next transformative impact. As always, the purpose of this research is to focus on technology solutions rather than on the organizational impacts. Autonomous agents naturally raise concern about job displacement, as AI agents are expected to take over repetitive tasks. Enterprises need to rediscover synergy/coordination between humans and AI agents by critically looking at redefining job roles and creating new ones centered around creating, managing and collaborating with AI. This transformation therefore creates another important task as most enterprises will need to critically upskill and reskill their workforce alongside their AI transformation. Finally, any breakthrough in the LLM model architecture, solutions that bring in cost-effective adaptive knowledge injection or significant improvement in understanding and reasoning capabilities has the potential to further impact the underlying realities of the AI applications. Further Reading Unveiling the crystal ball — 2024 Data and AI Trends Demystifying AI Agents: Frequently Asked Questions Three Agent Personas Moving from model learning to Agent Learning How to approach post training for AI Applications? Data AI Trends Ai Agent Llm -- -- 7 Follow Written by Sanjeev Mohan 2K Followers · 29 Following Sanjeev researches the space of data and analytics. Most recently he was a research vice president at Gartner. He is now a principal with SanjMo. Follow Responses ( 7 ) See all responses Help Status About Careers Press Blog Privacy Terms Text to speech Teams\n",
            "\n",
            "\n",
            "\n",
            "You ONLY have access to the following tools, and should NEVER make up tools that are not listed here:\n",
            "\n",
            "Tool Name: Search the internet with Serper\n",
            "Tool Arguments: {'search_query': {'description': 'Mandatory search query you want to use to search the internet', 'type': 'str'}}\n",
            "Tool Description: A tool that can be used to search the internet with a search_query. Supports different search types: 'search' (default), 'news'\n",
            "Tool Name: Read website content\n",
            "Tool Arguments: {'website_url': {'description': 'Mandatory website url to read the file', 'type': 'str'}}\n",
            "Tool Description: A tool that can be used to read a website content.\n",
            "\n",
            "IMPORTANT: Use the following format in your response:\n",
            "\n",
            "```\n",
            "Thought: you should always think about what to do\n",
            "Action: the action to take, only one name of [Search the internet with Serper, Read website content], just the name, exactly as it's written.\n",
            "Action Input: the input to the action, just a simple JSON object, enclosed in curly braces, using \" to wrap keys and values.\n",
            "Observation: the result of the action\n",
            "```\n",
            "\n",
            "Once all necessary information is gathered, return the following format:\n",
            "\n",
            "```\n",
            "Thought: I now know the final answer\n",
            "Final Answer: the final answer to the original input question\n",
            "```\u001b[00m\n",
            "\n",
            "\n",
            "\u001b[1m\u001b[95m# Agent:\u001b[00m \u001b[1m\u001b[92mbuscador de conteúdos\u001b[00m\n",
            "\u001b[95m## Final Answer:\u001b[00m \u001b[92m\n",
            "The article \"2025 Enterprise Data & AI Trends: Agents, Platforms, and Moonshots\" by Sanjeev Mohan explores multiple transformative trends in AI technology, particularly focusing on AI agents and their impact on data platforms and business operations. As we move towards 2025, the AI landscape is expected to undergo significant transformations with the mainstream adoption of applied AI, notably AI agents, which will automate routine tasks and enhance human capabilities through efficient task execution and complex problem-solving abilities.\n",
            "\n",
            "Key trends and technologies set to dominate include:\n",
            "1. **AI Agent Adoption**: The era of agentic AI ushers new tools and services that are increasingly able to handle complex tasks autonomously while working in concert.\n",
            "2. **Multi-Agent Systems**: These systems involve multiple AI agents working collaboratively, communicating seamlessly to solve complex challenges beyond the capability of a single agent.\n",
            "3. **Agent Management Systems**: Tools and frameworks that simplify the creation, deployment, and monitoring of AI agents, which are becoming critical for enterprises.\n",
            "4. **Task-Specific AI Models**: Continuing trends in model development focus on post-training alignment and continual fine-tuning, improving models' task-specific accuracy and usability.\n",
            "5. **Intelligent Data Platforms**: Unified data platforms that support both structured and unstructured data, providing a seamless foundation for developing and operating AI applications.\n",
            "6. **ETL for AI**: Enhanced ETL processes that handle diverse data formats are essential for preparing data for AI integration, extending beyond traditional data formats.\n",
            "7. **Moonshots**: Ambitious, high-risk projects within AI development explore innovative solutions that potentially transform entire industries.\n",
            "\n",
            "SEO Keywords: AI agents, Multi-Agent Systems, Agent Management Systems, Task-Specific AI Models, Intelligent Data Platforms, ETL for AI, Moonshots, AI Trends 2025.\n",
            "\n",
            "Considering audiences in enterprise sectors, key pain points this trend addresses include task automation and efficiency improvements, innovative AI applications, operational cost reductions, and maintaining competitive edges through technology adoption.\n",
            "```\u001b[00m\n",
            "\n",
            "\n",
            "\u001b[1m\u001b[95m# Agent:\u001b[00m \u001b[1m\u001b[92mredator de conteúdos\u001b[00m\n",
            "\u001b[95m## Task:\u001b[00m \u001b[92m1. Use os dados coletados de conteúdo para criar um post de LinkedIn atraente sobre Uso de agentes de IA em plataformas multidiciplinares. \n",
            "2. Incorpore palavras-chave de SEO de forma natural. \n",
            "3. Certifique-se de que o post esteja estruturado de forma cativante, com uma conclusão que faça o leitor refletir. \n",
            "\u001b[00m\n",
            "\n",
            "\n",
            "\u001b[1m\u001b[95m# Agent:\u001b[00m \u001b[1m\u001b[92mredator de conteúdos\u001b[00m\n",
            "\u001b[95m## Thought:\u001b[00m \u001b[92m```\n",
            "Thought: I need to gather more details and recent insights on the use of AI agents in multidisciplinary platforms to write a comprehensive LinkedIn post. This will help incorporate relevant data and align with the latest trends in the industry.\u001b[00m\n",
            "\u001b[95m## Using tool:\u001b[00m \u001b[92mSearch the internet with Serper\u001b[00m\n",
            "\u001b[95m## Tool Input:\u001b[00m \u001b[92m\n",
            "\"{\\\"search_query\\\": \\\"Use of AI agents in multidisciplinary platforms 2023\\\"}\"\u001b[00m\n",
            "\u001b[95m## Tool Output:\u001b[00m \u001b[92m\n",
            "{'searchParameters': {'q': 'Use of AI agents in multidisciplinary platforms 2023', 'type': 'search', 'num': 10, 'engine': 'google'}, 'organic': [{'title': 'AI Agents: What They Are and Their Business Impact | BCG', 'link': 'https://www.bcg.com/capabilities/artificial-intelligence/ai-agents', 'snippet': \"AI agents automate tasks, analyze data, and collaborate with humans. Discover their components, how they work, and how they're transforming businesses ...\", 'position': 1}, {'title': 'Agents Are The Future Of AI. Where Are The Startup Opportunities?', 'link': 'https://www.forbes.com/sites/robtoews/2024/07/09/agents-are-the-future-of-ai-where-are-the-startup-opportunities/', 'snippet': 'Agents are AI systems that can act autonomously in pursuit of open-ended, loosely defined goals. This can involve making long-term plans, using “tools” (say, ...', 'position': 2}, {'title': 'Big Tech is now all-in on AI agents - Medium', 'link': 'https://medium.com/@mcunningham1440/big-tech-is-now-all-in-on-ai-agents-4ccc5970ed57', 'snippet': 'A comprehensive look at the moves being made by Microsoft, Google, OpenAI, and more to dominate the field of LLM-based AI agents.', 'position': 3}, {'title': 'Agents of Change: Navigating the Rise of AI Agents in 2024', 'link': 'https://pieces.app/blog/navigating-the-rise-of-ai-agents', 'snippet': 'Learn how agentic AI is evolving in the modern era of software development, and how AI agents can overhaul typical workflows.', 'position': 4}, {'title': 'Harnessing The Power of AI Agents | Accenture', 'link': 'https://www.accenture.com/us-en/insights/data-ai/hive-mind-harnessing-power-ai-agents', 'snippet': \"AI agents quickly grasp a human's intentions, present pre-built workflows to automate complex tasks, provide personalized assistance and enhance ...\", 'position': 5}, {'title': \"The Next “Next Big Thing”: Agentic AI's Opportunities and Risks\", 'link': 'https://scet.berkeley.edu/the-next-next-big-thing-agentic-ais-opportunities-and-risks/', 'snippet': 'By incorporating LLMs, agentic AI systems become more intelligent, versatile, and capable of performing a broad range of tasks across multiple ...', 'position': 6}, {'title': 'AI Agents Market Set to Reach USD 103.6 Billion by 2032, Owing to ...', 'link': 'https://www.cmswire.com/the-wire/ai-agents-market-set-to-reach-usd-1036-billion-by-2032-owing-to-rising-demand-for-automation-customer-experience/', 'snippet': 'Machine learning led the AI agents market in 2023, generating 29% of global revenue, largely due to its critical role in applications like ...', 'position': 7}, {'title': 'Autonomous generative AI agents: Under development - Deloitte', 'link': 'https://www2.deloitte.com/us/en/insights/industry/technology/technology-media-and-telecom-predictions/2025/autonomous-generative-ai-agents-still-under-development.html', 'snippet': 'Autonomous generative AI agents could increase the productivity of knowledge workers and make workflows of all kinds more efficient.', 'position': 8}, {'title': 'AI Agents in the Enterprise: Bridging the Gap to an Agentic Future', 'link': 'https://www.nvp.com/blog/ai-agents-enterprise-bridging-gap-agentic-ai/', 'snippet': 'Norwest investors answer burning questions about the promise, current state, and future of agentic AI and enterprise AI agents.', 'position': 9}, {'title': '7 Types of AI Agents to Automate Your Workflows in 2025', 'link': 'https://www.digitalocean.com/resources/articles/types-of-ai-agents', 'snippet': 'AI agents are autonomous programs that can observe their environment, make decisions, and take actions to achieve specific goals. They can monitor data streams, ...', 'position': 10}], 'credits': 1}\n",
            "\n",
            "\n",
            "You ONLY have access to the following tools, and should NEVER make up tools that are not listed here:\n",
            "\n",
            "Tool Name: Search the internet with Serper\n",
            "Tool Arguments: {'search_query': {'description': 'Mandatory search query you want to use to search the internet', 'type': 'str'}}\n",
            "Tool Description: A tool that can be used to search the internet with a search_query. Supports different search types: 'search' (default), 'news'\n",
            "Tool Name: Read website content\n",
            "Tool Arguments: {'website_url': {'description': 'Mandatory website url to read the file', 'type': 'str'}}\n",
            "Tool Description: A tool that can be used to read a website content.\n",
            "\n",
            "IMPORTANT: Use the following format in your response:\n",
            "\n",
            "```\n",
            "Thought: you should always think about what to do\n",
            "Action: the action to take, only one name of [Search the internet with Serper, Read website content], just the name, exactly as it's written.\n",
            "Action Input: the input to the action, just a simple JSON object, enclosed in curly braces, using \" to wrap keys and values.\n",
            "Observation: the result of the action\n",
            "```\n",
            "\n",
            "Once all necessary information is gathered, return the following format:\n",
            "\n",
            "```\n",
            "Thought: I now know the final answer\n",
            "Final Answer: the final answer to the original input question\n",
            "```\u001b[00m\n",
            "\n",
            "\n",
            "\u001b[1m\u001b[95m# Agent:\u001b[00m \u001b[1m\u001b[92mredator de conteúdos\u001b[00m\n",
            "\u001b[95m## Thought:\u001b[00m \u001b[92m```\n",
            "Thought: I will read one of the top articles to gather detailed and updated information on AI agents to help me construct the LinkedIn post effectively.\u001b[00m\n",
            "\u001b[95m## Using tool:\u001b[00m \u001b[92mRead website content\u001b[00m\n",
            "\u001b[95m## Tool Input:\u001b[00m \u001b[92m\n",
            "\"{\\\"website_url\\\": \\\"https://www.bcg.com/capabilities/artificial-intelligence/ai-agents\\\"}\"\u001b[00m\n",
            "\u001b[95m## Tool Output:\u001b[00m \u001b[92m\n",
            "\n",
            " Access Denied\n",
            "Access Denied\n",
            "You don't have permission to access \"http://www.bcg.com/capabilities/artificial-intelligence/ai-agents\" on this server. \n",
            "Reference #18.4e680117.1739446278.ee12519b\n",
            " https://errors.edgesuite.net/18.4e680117.1739446278.ee12519b\n",
            "\u001b[00m\n",
            "\n",
            "\n",
            "\u001b[1m\u001b[95m# Agent:\u001b[00m \u001b[1m\u001b[92mredator de conteúdos\u001b[00m\n",
            "\u001b[95m## Thought:\u001b[00m \u001b[92m```\n",
            "Thought: Since I cannot access the BCG article, I will attempt to gather information from another source that could provide insights into the use of AI agents in multidisciplinary platforms.\u001b[00m\n",
            "\u001b[95m## Using tool:\u001b[00m \u001b[92mRead website content\u001b[00m\n",
            "\u001b[95m## Tool Input:\u001b[00m \u001b[92m\n",
            "\"{\\\"website_url\\\": \\\"https://www.forbes.com/sites/robtoews/2024/07/09/agents-are-the-future-of-ai-where-are-the-startup-opportunities/\\\"}\"\u001b[00m\n",
            "\u001b[95m## Tool Output:\u001b[00m \u001b[92m\n",
            "Agents Are The Future Of AI. Where Are The Startup Opportunities? Subscribe To Newsletters BETA THIS IS A BETA EXPERIENCE. OPT-OUT  HERE More From Forbes Feb 13, 2025, 05:30am EST From Reducing Risk To Improving Operations, The Role Of AI In Insurance Feb 12, 2025, 01:42pm EST AI In Space: Astronauts Are Likely To Need Help Feb 12, 2025, 08:51am EST How Big Tech, ChatGPT And DeepSeek Could Lose To Decentralized AI Feb 11, 2025, 10:01pm EST Sam Altman Moves The Cheese When It Comes To Attaining AGI Feb 11, 2025, 05:41pm EST Sam Altman’s Three Recent Observations On AI Feb 11, 2025, 03:21pm EST Why Hybrid Intelligence Is Our Best Bet To Thrive Now Feb 11, 2025, 02:55pm EST More Than One AI Revolution? Yann LeCun On Tech Trajectories Feb 11, 2025, 02:04pm EST The Big AI Mistake — Why Just Cutting Jobs Might Cost Your Company Feb 11, 2025, 01:20pm EST How AI Is Taking The Chaos Out Of Business Communications Edit Story Forbes Innovation AI Agents Are The Future Of AI. Where Are The Startup Opportunities? Rob Toews Contributor Opinions expressed by Forbes Contributors are their own. I write about the big picture of artificial intelligence. Following Jul 9, 2024, 10:00am EDT Updated Jul 9, 2024, 02:10pm EDT Share to Facebook Share to Twitter Share to Linkedin AI agents, popularized in science fiction works like the 2013 film \"Her\", are fast becoming a ... [+] reality. Source: Her\n",
            "If you are wondering what the next great chapter in artificial intelligence will be, here is your answer.\n",
            "“This seems like as good of a time as any to talk about how we view the future,” wrote OpenAI leaders Sam Altman and Greg Brockman recently. “Users will increasingly interact with systems - composed of many multimodal models plus tools - which can take actions on their behalf, rather than talking to a single model.”\n",
            "This is as clear a description as any of the concept of “agents,” which has taken the field of artificial intelligence by storm over the past year.\n",
            "Agents are AI systems that can act autonomously in pursuit of open-ended, loosely defined goals. This can involve making long-term plans, using “tools” (say, an internet browser), and dynamically trying new approaches in response to new information.\n",
            "A concrete example will help illustrate the concept. An example of an AI agent would be a system that automatically books your airfare for an upcoming trip, with no input required from you. In order to do this effectively, the agent would need to review your email or calendar to know when and where you are traveling; remember your travel preferences (aisle or window, red-eye or daytime flight); research and select the best flight for you; retrieve your personal and payment information; and use the airline’s booking system (e.g., via web browser or API) to buy your tickets.\n",
            "AI agents are the source of tremendous hype today, which can make it hard to separate signal from noise in this space. But it is important not to lose sight of the big picture here: agentic capabilities will define the next great wave of progress in AI.\n",
            "In the words of Andrew Ng: “AI agent workflows will drive massive AI progress this year—perhaps even more than the next generation of foundation models. This is an important trend, and I urge everyone who works in AI to pay attention to it.”\n",
            "MORE FROM FORBES ADVISOR Best High-Yield Savings Accounts Of 2024 By Kevin Payne Contributor Best 5% Interest Savings Accounts of 2024 By Cassidy Horton Contributor\n",
            "Or, as Andrej Karpathy put it : “It’s very obvious that AGI will take the form of some kind of AI agent.”\n",
            "This article will (1) explore the technological underpinnings of AI agents and then (2) canvass some of the most exciting young AI agent startups today. If you think today’s AI systems are powerful—buckle up for what’s coming.\n",
            "Agents 101\n",
            "Where did the concept of AI agents come from?\n",
            "Unlike other breakthroughs in artificial intelligence like, say, the transformer or direct preference optimization (DPO) , the idea of an AI agent cannot be traced back to one foundational paper or one particular research group. It is too general and expansive of a concept for that.\n",
            "Rather, over the past two years, AI practitioners have made a series of interrelated advances that have built upon one another to enable progressively more sophisticated autonomous behavior from AI systems.\n",
            "The overarching theme of these advances has been to build structures and flows around the core intelligence of large language models (LLMs) that unlock the ability for AI to act autonomously.\n",
            "A brief word on terminology before we proceed. “Agentic” is often used in AI circles as the adjective form of “agent.” We agree with Andrew Ng’s well-articulated point on this topic: the word “agentic” serves a helpful purpose by allowing for more nuance and flexibility when discussing this fast-moving technology. Rather than needing to classify a given AI system as either an agent or not an agent , it can be instructive to think of AI systems as having agent-like characteristics—being agentic —to varying degrees. This helps avoid semantic hairsplitting over whether a given AI system “counts” as an agent.\n",
            "One seminal work that helped lay the groundwork for agents was the 2022 Google Brain paper that introduced the concept of “chain-of-thought prompting.” This paper showed that LLMs have the ability to break complex problems down into smaller intermediate steps and then to work through each step in succession to solve the overall problem.\n",
            "Chain-of-thought prompting was not originally developed in pursuit of AI agents; the paper does not contemplate AI models interacting with the external world in any way. But chain-of-thought techniques significantly enhance LLMs’ multi-step reasoning and planning abilities, which lie at the heart of agentic behavior.\n",
            "Perhaps the first research effort that explicitly aimed to combine LLMs’ ability to reason with their ability to act was ReAct in 2022, also from Google Brain. While the ReAct system broke important conceptual ground, its functionality was limited.\n",
            "One essential ingredient for a capable agent is the ability to make use of external applications: browsing the internet, sending an email, making an online purchase, calling an Uber, building a website, updating a database, submitting a pull request, or any of the infinite number of other possible digital actions. In the realm of AI agents, this general capability is often referred to as “tool use.”\n",
            "A landmark research effort on agentic tool use was Toolformer , published by Meta researchers in 2023. The Toolformer team fine-tuned a large language model to learn how and when to make API calls in order to leverage outside applications like a calculator, a calendar and a language translation program.\n",
            "More recent efforts, including Gorilla and Chain-of-Abstraction , have built on Toolformer’s API-based approach to enable more sophisticated and flexible forms of tool use.\n",
            "Instead of a small number of hand-selected tools, the Gorilla approach makes it possible for AI agents to choose from a dynamic landscape of thousands or millions of different APIs. Chain-of-Abstraction, meanwhile, enables agents to create multi-step plans to use different tools in combination, including factoring in how the output from one tool might inform the input of another. Such big-picture planning about tool use unlocks more powerful and versatile agentic behavior.\n",
            "One final component of agentic systems, which has emerged more recently and which shows tremendous promise, is the concept of multi-agent architectures.\n",
            "The basic insight behind multi-agent architectures is that—as with humans—while a single AI agent acting alone can be useful, many AI agents working in concert can be far more powerful.\n",
            "A popular open-source example of a multi-agent system is ChatDev , in which a group of AI agents work together to build software programs. Agents in the ChatDev system assume roles including CEO, CTO, software programmer, software reviewer and test engineer. Each agent focuses on its specific responsibilities (e.g., the CTO architects the overall system, the programmers translate it into code, the reviewer examines the code for bugs) while collaborating with one another in order to achieve the overall goal of building a software application. A visual depiction of the ChatDev agent team at work. \"ChatDev: Communicative Agents for Software Development\" (arXiv:2307.07924)\n",
            "Intuitively, since all the agents are ultimately powered by the same source of intelligence (an LLM), it may seem unnecessary to create a multi-agent system and divide up roles in this way. In practice, however, multi-agent systems perform better than single-agent systems, especially in more complex settings. Why is this?\n",
            "A big part of the answer is specialization and modularization. When an individual agent is prompted to focus on a specific subtask, it does a better job on that subtask than if one monolithic agent is prompted to complete the entire project. From the human developers’ perspective, too, a multi-agent framework is conceptually useful in that it decomposes a complex system into discrete modules that can be independently improved and evaluated.\n",
            "The first widely used open-source framework for multi-agent orchestration was AutoGen . Others, including MetaGPT and Langchain’s LangGraph , have followed.\n",
            "Multi-agent systems remain a nascent and fast-evolving technology area, with best practices still being formulated. What hierarchical relationships work best for groups of agents working together? How can agents best share information and learn from one another? When and how should new agents be generated on-the-fly in response to changing circumstances? What is the best way to manage computational needs as the number of agents in a system massively scales? Answers to these questions and more are being hashed out by AI builders in real-time.\n",
            "Where Are the Startup Opportunities in Agents Today?\n",
            "Tomorrow’s leading AI applications will be agentic at their core. This will be one of the defining themes of artificial intelligence in the years ahead. This leaves the question: what are the most compelling opportunities for startups to pursue in this area today?\n",
            "One common mental model in the world of early-stage technology is to categorize startups as either infrastructure companies or application companies. In a nutshell, infrastructure companies build the underlying tools and platforms that serve as enablers on top of which application companies build products for end customers.\n",
            "Conventional wisdom has it that, in any new technology wave, opportunities at the infrastructure layer tend to precede opportunities at the application layer. It makes intuitive sense, after all, that the right infrastructure needs to be in place first in order to support the development of robust, mature, scalable applications. Venture capitalists have long been fond of the “picks and shovels” thesis. (“When everyone is looking for gold, it's a good time to be in the pick and shovel business,” as Mark Twain famously put it.)\n",
            "And there is certainly a lot of startup activity happening at the infrastructure layer for agents today. Startups have recently emerged to build tools for agents in areas like orchestration, memory, authentication and hosting.\n",
            "Yet utilization of all this tooling remains very low, despite the fact that the number of agentic applications has surged in recent months.\n",
            "In our view, it remains unclear how much space there is to build massive businesses that sit between the foundation model providers on one hand and agentic applications on the other. The state of agent infrastructure startups today? Source: X\n",
            "Especially at this early stage of the technology’s life cycle, before product architectures have become standardized and interoperable, most of today’s agent-based products are powered by internally built tooling that is coupled tightly with the application. And as the underlying foundation models continue to advance, they will be able to handle more and more of the “heavy lifting” that agentic infrastructure would otherwise be designed to solve for. (Don’t be surprised if GPT-5 is natively agentic in its architecture and capabilities.)\n",
            "For all of these reasons, we believe the biggest and most attractive market opportunities for agent startups are at the application layer. This is where the action is today.\n",
            "Application-Layer Agent Startups\n",
            "We will walk through a few specific application areas in which we see tremendous opportunity for agent startups today. But first, what general observations can we make about agent startups at the application layer and what makes them successful?\n",
            "A few brief thoughts.\n",
            "To begin with, fully horizontal, general-purpose agents do not work reliably. The technology is simply not there yet. In order to build an agentic product that can be deployed in production with customers today, it is essential to limit its degrees of freedom by customizing it for a specific end market or vertical.\n",
            "End markets that are particularly conducive to being “agentized” (to invent a word) are those that involve structured, repeatable activities. Software engineering, sales development representatives (SDRs) and regulatory compliance are all examples of such functions. Though they involve very different activities, each of these functions consists of routine workflows with consistent patterns that can be learned and audited.\n",
            "A second characteristic that makes an application area particularly attractive for the deployment of AI agents is the existence of what one might call a “natural human in the loop.”\n",
            "Agent technology is not yet totally reliable. Edge cases abound. Some degree of human oversight can help make these systems “ready for primetime.” Yet it would be unscalable and uneconomical for an agent startup to employ people to manually check its system’s outputs.\n",
            "Conveniently, some workflows already include a human who is in a position to review and approve an agent’s actions without much added friction.\n",
            "Customer support is a good example. In any customer support interaction, there is always a human involved who can review and sign off on any major action: the customer herself. Depending on the system’s design, a human customer support manager can also function as an additional “human in the loop” for an AI agent. These humans’ input can help course-correct the agent and ensure a productive outcome.\n",
            "It is worth making one final general point about why AI agents represent such a massive market opportunity.\n",
            "Organizations spend far more on people than they do on software: on average, companies devote about 70% of their budgets to employees, compared to well under 10% for software products.\n",
            "Agentic applications are such a revolutionary concept because they are not just another software product to enhance worker productivity; rather, they are workers themselves. For certain roles, they can do everything that an employee can do. This means that they will be able to command pricing more in line with an employee’s salary than with a software tool. This unlocks far greater pools of spend than were accessible to earlier generations of technology startups, translating to massive addressable markets.\n",
            "And indeed, some of today’s leading agent startups are already having success tapping into customers’ hiring budgets as opposed to their IT budgets.\n",
            "Without further ado, let us walk through a few specific application areas in which agentic AI startups are poised to create enormous value.\n",
            "Customer Support\n",
            "Customer support is an unglamorous but essential function for any business. It is also an enormous market : the global market size for contact centers (a useful proxy) was an estimated $332 billion in 2023, projected to grow to over $500 billion by 2030.\n",
            "In many ways, customer support represents an archetypal end market for AI agents. It is a standardized, formulaic activity in which most types of customer requests (say, help with a forgotten password) occur over and over. And as noted above, it includes a “natural human in the loop”—the customer herself and/or a customer support manager—who can provide oversight and signoff before any high-stakes action is finalized.\n",
            "For these reasons, customer support is one of the first areas in which agents are already in production and creating real value for enterprises today.\n",
            "Fintech unicorn Klarna is a case in point. Earlier this year, Klarna announced that it had deployed an AI assistant powered by OpenAI to automate its customer service engagements. According to the company, this AI assistant has been able to handle two-thirds of all customer service requests (2.3 million conversations in its first month alone), automating the work of 700 full-time human reps and driving an estimated $40 million in added profit for the company this year.\n",
            "A number of young startups has emerged to build AI customer support agents.\n",
            "The most high-profile and well-capitalized of these startups is Sierra, which has raised over $100 million to date from blue-chip venture capital firms Benchmark and Sequoia. What sets Sierra apart? Its world-class founding team. Sierra CEO/cofounder Bret Taylor—former Salesforce co-CEO, former Facebook CTO, former board chairman at Twitter and current board chairman at OpenAI—is one of the most admired technology executives in the world.\n",
            "Sierra’s AI customer support agents can respond in real-time to customer queries; retrieve all necessary customer information by integrating with internal systems and calling the appropriate APIs; and take action when needed to satisfy a customer request (say, updating a customer’s address or canceling an international data plan).\n",
            "Sierra plans to price its agents based on work completed rather than the more conventional software subscription model. As discussed above, this notion of charging for work rather than for software represents an important business model paradigm shift made possible by agents.\n",
            "“We think outcome-based pricing is the future of software. I think with AI we finally have technology that isn’t just making us more productive but actually doing the job. It’s actually finishing the job,” said Taylor.\n",
            "Two other promising startups building agentic solutions for customer support are Decagon and Maven AGI, both of which recently announced Series A rounds.\n",
            "Maven claims that its agents can autonomously handle 93% of all customer questions while reducing resolution times by 60%.\n",
            "Decagon, meanwhile, boasts an impressive list of early customers that includes Eventbrite, Rippling and Substack.\n",
            "“Technology differentiation is an interesting question in this category,” said Decagon CEO/cofounder Jesse Zhang. “Everyone is using the same underlying AI models, whether it’s OpenAI’s models or open-source models like Llama. So the differentiator is in the infrastructure, the orchestration that you build around those models. Companies building agents today are basically building graphs, where each node in the graph is an API call or an LLM call or so on. We have our own views on the best way to architect that graph.”\n",
            "Regulatory Compliance\n",
            "Companies spend many tens of billions of dollars each year to ensure that their decisions and activities are in compliance with all applicable regulations.\n",
            "Regulatory requirements touch all facets of a company’s operations: what it communicates externally, how it crafts its internal company policies, how it executes business transactions, what data privacy measures it implements, what reporting and disclosures it carries out, how it handles its tax obligations, and so forth.\n",
            "Compliance workflows are particularly well-suited to be handed off to AI agents, for a few reasons.\n",
            "First, compliance work is highly structured, pattern-based and repeatable.\n",
            "In addition, it is typical for compliance teams to consist of front-line analysts—responsible for flagging potential regulatory violations and suggesting remedies—together with managers who oversee and make final decisions on compliance actions. This presents an opportunity to slot in an AI agent while maintaining a “natural human in the loop”: the agent can substitute for the front-line analyst while the higher-level manager continues to provide human review before any high-stakes decision is finalized.\n",
            "One prominent startup building AI agents for regulatory compliance is New York-based Norm Ai, which has raised nearly $40 million in recent months in two successive rounds led by Coatue.\n",
            "Norm’s agentic system can review a company’s operations on an ongoing basis, identify when a certain activity is not in compliance with a certain regulation, and suggest remedial actions to ensure compliance.\n",
            "Among the laws and regulations that Norm’s agents understand and support compliance for today are the Clean Air Act (213,796 words), the Affordable Care Act (371,810 words) and the Americans with Disabilities Act (22,481 words). Given the length and complexity of these laws, the ability to automatically analyze and apply them is compelling.\n",
            "Another promising early-stage player in this category is Greenlite AI. In contrast to Norm, which seeks to build agents for the full range of compliance activities, Greenlite is initially focused specifically on Anti-Money Laundering and Know Your Customer (AML/KYC) operations. Greenlite’s agents can, for instance, automatically carry out routine investigations on companies by reviewing documents and searching the internet.\n",
            "“Leading banks and fintech companies already trust our agents to automate AML workflows in production settings,” said Greenlite CEO/cofounder Will Lawrence. “The status quo is often to rely on offshore contract workers to complete these tasks. So using Greenlite means swapping out an outsourced worker sitting in a different country with our AI. And our AI brings tremendous advantages—in terms of cost, speed, accuracy and transparency.”\n",
            "Data Science\n",
            "One of the largest and most compelling application areas for agents is software development. There is enormous buzz around this use case today (for good reason), with companies like Cognition AI—recently valued at $2 billion less than six months after its founding—leading the way. Much has been written already about the opportunity for agents in software engineering.\n",
            "A thematically analogous opportunity for agents that gets much less attention is data science.\n",
            "Like software engineering, data science entails complex and highly-paid yet structured and repeatable activities that agentic systems are well-suited to tackle.\n",
            "Data science (or “predictive machine learning”) use cases can be found everywhere in enterprises today: for instance, personalization, demand forecasting, recommendation systems, dynamic pricing and fraud detection.\n",
            "One exciting startup building agents for data science is Delphina. Founded by two long-time data science leaders from Uber, Delphina’s agents automate the full data science lifecycle: framing the problem, selecting and transforming data, carrying out feature engineering, training the model, and monitoring and improving the model after deployment.\n",
            "As Delphina cofounders Jeremy Hermann and Duncan Gilchrist describe it: “Delphina’s agents can be thought of as junior data scientists. They take care of the time-consuming and routine elements of data science workflows, the way an entry-level data scientist might, freeing up human data scientists to spend more time on big-picture reflection and ideation.”\n",
            "Personal Assistants\n",
            "Let us end with perhaps the most obvious and clear-cut of all use cases for an AI agent: a personal assistant.\n",
            "The concept of an AI personal assistant has featured in science fiction books and movies going back decades (think J.A.R.V.I.S. from Iron Man or Samantha from Her ). Perhaps because it is so obvious—unoriginal, even—this use case has actually attracted less hype and activity from today’s agent-focused founders and investors than many of the other categories mentioned in this article.\n",
            "Previous generations of startups have tried and failed to build software that could automate the work of an executive assistant or a personal helper. These products have always proven too brittle for the infinite variability of situations, communications and requests that occur in daily life.\n",
            "The advent of large language models—and the agentic systems built around them—may finally bring the vision of a competent AI personal assistant within reach.\n",
            "Compared to use cases like, say, customer support or compliance, building an AI agent that serves as a general-purpose personal assistant is a more unconstrained and open-ended undertaking. A key challenge for startups pursuing this vision, therefore, will be to find ways to put enough structure and boundaries around the problem space that their agents function reliably, while at the same time not limiting their flexibility so much that users get little value out of them.\n",
            "One promising startup building an agent-powered personal assistant is Mindy.\n",
            "Mindy describes itself as “everybody’s personal Chief of Staff.” Users can ask Mindy to, for instance, schedule a lunch and invite attendees; shop for a given item online; or carry out market research on a certain industry or company.\n",
            "Mindy’s cofounders hail from the “PayPal Mafia,” which helps explain why Roelof Botha from Sequoia and Peter Thiel from Founders Fund—two of the PayPal Mafia’s leading members—led the company’s $6 million seed round earlier this year.\n",
            "The Mindy agent lives in email, and users communicate with it the same way that they would communicate with a human assistant or colleague.\n",
            "The Mindy team explained the logic behind this key design choice: “Email is the original Internet technology and is still the most ubiquitous tool used to communicate in the business world. Allowing users to cc Mindy to schedule a meeting or forward Mindy a document for summarization delivers the value of generative AI without having to leave their day-to-day workflow or having to learn how to ‘prompt.’ Over 4 billion people around the world have an email account.”\n",
            "The asynchronous nature of email enables Mindy to carry out deeper research and analysis before responding to a user, rather than needing to produce an immediate response the way a chatbot like ChatGPT does. It also, conveniently, makes it easier to incorporate some degree of human review before Mindy responds.\n",
            "The Mindy agent is available today for anyone to try out for free.\n",
            "Another interesting startup in this category is Ario.\n",
            "Ario is built specifically for consumers rather than for enterprise users. Ario helps with tasks like, for instance, managing your family’s calendar, coordinating your Amazon returns and building personalized itineraries for vacations.\n",
            "In order to understand you, Ario starts by ingesting all of your data from all of the consumer applications you regularly use, from Instagram to Google Calendar to DoorDash to Fitbit. (The company emphasizes its commitment to data privacy and security.) It can then use all this context to proactively help you manage your life: for example, reminding you that your daughter’s birthday is coming up and suggesting personalized party ideas based on her current interests.\n",
            "If personal assistant agents like Mindy and Ario actually work—and they need not work perfectly, just well enough to be useful—there is little doubt that they will be wildly successful products.\n",
            "The big question is whether it is possible, with clever engineering, to harness today’s large language models to enable useful agentic behavior over such a wide-ranging and unconstrained set of topics and tasks. We will soon find out.\n",
            "Looking Forward\n",
            "These four categories are illustrative examples of promising application areas for agent startups today. But this is far from an exhaustive list.\n",
            "From software engineering to revenue operations, from healthcare patient management to sales development representatives, from product analytics to data engineering, many other categories are similarly ripe to be transformed by AI agents.\n",
            "And these are just the functions that agents are well-positioned to tackle today. As the underlying AI continues to improve at breathtaking speed, the set of human activities that can be handed off to agents will rapidly grow. How long will it be before an agentic system can fully automate the work of a lawyer? An investigative journalist? A policymaker? A venture capitalist? An AI researcher?\n",
            "Agents are not just another overhyped AI buzzword. They are the inevitable future form factor for artificial intelligence systems. Before you know it, you will be interacting with many different agents on a daily basis.\n",
            "Things are only going to get weirder and more magical from here.\n",
            "Note: The author is a partner at Radical Ventures, which is an investor in Delphina.\n",
            "Follow me on  Twitter .  Rob Toews Following Editorial Standards Forbes Accolades Join The Conversation Comments  One Community. Many Voices. Create a free account to share your thoughts.  Read our community guidelines  here . Forbes Community Guidelines Our community is about connecting people through open and thoughtful conversations. We want our readers to share their views and exchange ideas and facts in a safe space. In order to do so, please follow the posting rules in our site's  Terms of Service.   We've summarized some of those key rules below. Simply put, keep it civil. Your post will be rejected if we notice that it seems to contain: False or intentionally out-of-context or misleading information Spam Insults, profanity, incoherent, obscene or inflammatory language or threats of any kind Attacks on the identity of other commenters or the article's author Content that otherwise violates our site's  terms. User accounts will be blocked if we notice or believe that users are engaged in: Continuous attempts to re-post comments that have been previously moderated/rejected Racist, sexist, homophobic or other discriminatory comments Attempts or tactics that put the site security at risk Actions that otherwise violate our site's  terms. So, how can you be a power user? Stay on topic and share your insights Feel free to be clear and thoughtful to get your point across ‘Like’ or ‘Dislike’ to show your point of view. Protect your community. Use the report tool to alert us when someone breaks the rules. Thanks for reading our community guidelines. Please read the full list of posting rules found in our site's  Terms of Service.\u001b[00m\n",
            "\n",
            "\n",
            "\u001b[1m\u001b[95m# Agent:\u001b[00m \u001b[1m\u001b[92mredator de conteúdos\u001b[00m\n",
            "\u001b[95m## Final Answer:\u001b[00m \u001b[92m\n",
            "🚀 **Embracing the Future: The Power of AI Agents on Multidisciplinary Platforms** 🌐\n",
            "\n",
            "In the ever-evolving landscape of technology, AI agents are swiftly becoming the cornerstone of innovation, driving impressive transformations across various platforms. These advanced AI systems, capable of acting autonomously, are not just a staple of science fiction any longer – they are reality 🌟. As we propel towards 2025, businesses are adopting AI agents to automate tasks, boost efficiency, and solve complex challenges like never before.\n",
            "\n",
            "**Why AI Agents Matter:**\n",
            "AI agents are redefining how businesses operate by enhancing task execution and problem-solving capabilities. They’re being employed across myriad functions, from customer support and regulatory compliance to data science and personal assistant applications.\n",
            "\n",
            "**The Heart of Multi-Agent Systems:**\n",
            "Multi-agent systems allow numerous AI agents to collaborate, capitalizing on their collective intelligence to tackle challenges beyond the scope of individual entities. This cooperative approach not only amplifies productivity but also introduces specialization, making each agent a master of its specific domain.\n",
            "\n",
            "**The Rise of Intelligent Data:**\n",
            "Supporting the deployment of AI agents are intelligent data platforms, which facilitate seamless data integration, extraction, and transformation (ETL for AI). These platforms bolster the capacity of AI agents to process and analyze data across structured and unstructured formats, ushering in more sophisticated applications.\n",
            "\n",
            "**Startup Ecosystem & Opportunities:**\n",
            "The onset of agentic AI systems heralds compelling opportunities for startups, especially within application layers. These systems are drawing venture capital interest due to their potential to not only enhance workforce productivity but to act as workforce themselves, expanding the potential addressable markets.\n",
            "\n",
            "**Looking Ahead:**\n",
            "As AI agents continue to evolve, their integration into enterprise systems promises to revolutionize industries by reducing operational costs, streamlining processes, and creating a competitive edge 🔍. From customer service to high-level decision making, the proliferation of these intelligent agents will make our interactions with technology more seamless and intuitive.\n",
            "\n",
            "In short, the future of AI is agentic. They are not just an overhyped trend but the inevitable future of AI systems: shaping how we live and work. As we continue to unlock their potential, the question isn’t whether your company will adopt AI agents, but rather how quickly you can harness their power to stay ahead of the curve.\n",
            "\n",
            "What role do you see AI agents playing in the future of your industry? Share your thoughts below! ⬇️\n",
            "\n",
            "#AI #artificialintelligence #AIagents #innovation #technologytrends #futureofwork #digitaltransformation #startups #intelligentdata #multidisciplinaryplatforms\n",
            "```\u001b[00m\n",
            "\n",
            "\n",
            "\u001b[1m\u001b[95m# Agent:\u001b[00m \u001b[1m\u001b[92meditor de conteúdos\u001b[00m\n",
            "\u001b[95m## Task:\u001b[00m \u001b[92mRevisar a postagem do LinkedIn em questão quanto a erros gramaticais e alinhamento com a voz pessoal do Andre Pereira.\u001b[00m\n",
            "\n",
            "\n",
            "\u001b[1m\u001b[95m# Agent:\u001b[00m \u001b[1m\u001b[92meditor de conteúdos\u001b[00m\n",
            "\u001b[95m## Final Answer:\u001b[00m \u001b[92m\n",
            "----------\n",
            "\n",
            "🚀 **AI no Dia a Dia: Como os Agentes Inteligentes Vão Dominar Tudo e Mais um Pouco!** 🌐\n",
            "\n",
            "Não é mistério pra ninguém que o mundo da tecnologia muda o tempo todo, né? E os agentes de IA são a bola da vez! Esses ajudantes digitais estão revolucionando tudo em todas as plataformas, saindo direto dos filmes de ficção científica para virar realidade no dia a dia 🌟. Com 2025 piscando logo ali, as empresas estão adotando esses agentes de IA para fazer o trabalho sujo, aumentar a eficiência e resolver pepinos que antes eram impossíveis.\n",
            "\n",
            "**Por Que os Agentes de IA São o Máximo:**\n",
            "Imagina ter um ajudante que faz tudo sem reclamar! Os agentes de IA estão mudando o jogo dentro das empresas, aperfeiçoando tarefas e dando uma mãozinha na solução de problemas. Eles atacam áreas como suporte ao cliente, compliance, ciência de dados e até na agenda pessoal!\n",
            "\n",
            "**O Coração dos Sistemas Multiagente:**\n",
            "Os sistemas multiagente são uma galera de agentes trabalhando juntos em harmonia, cada um com sua especialidade, pra encarar desafios que ninguém resolveria sozinho. Essa abordagem colaborativa dá um up na produtividade e cada agente vira um expert na sua área.\n",
            "\n",
            "**Inteligência de Dados:**\n",
            "Pra dar conta dessa turma toda, as plataformas de dados inteligentes entram no jogo, facilitando a integração, extração e transformação dos dados (ou o famoso ETL da IA). Elas ajudam os agentes a meterem a mão na massa dos dados, seja em formatos estruturados ou não, criando aplicações mais chiques.\n",
            "\n",
            "**Novas Oportunidades para Startups:**\n",
            "A chegada dos agentes de IA abriu um mar de oportunidades pras startups, especialmente nas camadas de aplicação. Essas plataformas são o queridinho dos investidores de venture capital, por não só dar aquele boost na produtividade, mas até mesmo atuarem como o próprio time de trabalho, aumentando o mercado alcançável.\n",
            "\n",
            "**De Olho no Futuro:**\n",
            "À medida que os agentes de IA evoluírem, a integração deles nos sistemas das empresas promete derrubar custos operacionais, dar uma limpada nos processos e garantir aquele diferencial competitivo 🔍. Vai desde atender o cliente até ajudar na tomada de decisão lá em cima. O uso desses agentes espertos vai deixar nossas interações com a tecnologia mais tranquilas e intuitivas.\n",
            "\n",
            "Resumindo, o futuro da IA é agentico. E não é só mais um blablabla, mas o destino inevitável dos sistemas de IA: transformando nossa maneira de viver e trabalhar. Conforme destravamos esse potencial, a pergunta não é se sua empresa vai adotar os agentes de IA, mas sim quão rápido você vai pegar essa onda pra ficar na frente.\n",
            "\n",
            "E você? Onde acha que os agentes de IA vão se encaixar no futuro da sua indústria? Conta aqui embaixo! ⬇️\n",
            "\n",
            "#IA #inteligenciaartificial #AgentesdeIA #inovação #tendênciasdetecnologia #futurodotrabalho #transformaçãodigital #startups #dadosinteligentes #plataformasmultidisciplinares\u001b[00m\n",
            "\n",
            "\n"
          ]
        }
      ]
    }
  ]
}